{
 "cells": [
  {
   "cell_type": "code",
   "execution_count": 1,
   "metadata": {},
   "outputs": [
    {
     "name": "stdout",
     "output_type": "stream",
     "text": [
      "Original Q shape: torch.Size([2, 10, 64])\n",
      "Q shape after linear: torch.Size([2, 10, 4, 16])\n",
      "Q shape after transpose: torch.Size([2, 4, 10, 16])\n",
      "Number of Q groups: 2\n",
      "Group 0 - Q_group shape: torch.Size([2, 4, 5, 16])\n",
      "Group 0 - context_group shape: torch.Size([2, 4, 5, 16])\n",
      "Group 1 - Q_group shape: torch.Size([2, 4, 5, 16])\n",
      "Group 1 - context_group shape: torch.Size([2, 4, 5, 16])\n",
      "Final output shape: torch.Size([2, 10, 64])\n"
     ]
    }
   ],
   "source": [
    "import torch\n",
    "import torch.nn as nn\n",
    "\n",
    "class GQA(nn.Module):\n",
    "    def __init__(self, d_model, n_heads, d_k, d_v, num_groups):\n",
    "        super(GQA, self).__init__()\n",
    "        self.n_heads = n_heads\n",
    "        self.d_k = d_k\n",
    "        self.d_v = d_v\n",
    "        self.num_groups = num_groups\n",
    "        self.W_q = nn.Linear(d_model, n_heads * d_k)\n",
    "        self.W_k = nn.Linear(d_model, n_heads * d_k)\n",
    "        self.W_v = nn.Linear(d_model, n_heads * d_v)\n",
    "        self.fc = nn.Linear(n_heads * d_v, d_model)\n",
    "\n",
    "    def forward(self, Q, K, V):\n",
    "        batch_size = Q.size(0)\n",
    "        print(\"Original Q shape:\", Q.shape)\n",
    "\n",
    "        Q = self.W_q(Q).view(batch_size, -1, self.n_heads, self.d_k)\n",
    "        K = self.W_k(K).view(batch_size, -1, self.n_heads, self.d_k)\n",
    "        V = self.W_v(V).view(batch_size, -1, self.n_heads, self.d_v)\n",
    "        print(\"Q shape after linear:\", Q.shape)\n",
    "\n",
    "        Q = Q.transpose(1, 2)\n",
    "        K = K.transpose(1, 2)\n",
    "        V = V.transpose(1, 2)\n",
    "        print(\"Q shape after transpose:\", Q.shape)\n",
    "\n",
    "        Q_groups = torch.chunk(Q, self.num_groups, dim=2)\n",
    "        K_groups = torch.chunk(K, self.num_groups, dim=2)\n",
    "        V_groups = torch.chunk(V, self.num_groups, dim=2)\n",
    "        print(\"Number of Q groups:\", len(Q_groups))\n",
    "\n",
    "        context = []\n",
    "        for i, (Q_group, K_group, V_group) in enumerate(zip(Q_groups, K_groups, V_groups)):\n",
    "            print(f\"Group {i} - Q_group shape:\", Q_group.shape)\n",
    "            scores = torch.matmul(Q_group, K_group.transpose(-2, -1)) / torch.sqrt(torch.tensor(self.d_k, dtype=torch.float32))\n",
    "            attn = torch.softmax(scores, dim=-1)\n",
    "            context_group = torch.matmul(attn, V_group)\n",
    "            context.append(context_group)\n",
    "            print(f\"Group {i} - context_group shape:\", context_group.shape)\n",
    "\n",
    "        context = torch.cat(context, dim=2)\n",
    "        context = context.transpose(1, 2).contiguous().view(batch_size, -1, self.n_heads * self.d_v)\n",
    "        output = self.fc(context)\n",
    "        print(\"Final output shape:\", output.shape)\n",
    "        return output\n",
    "\n",
    "d_model = 64\n",
    "n_heads = 4\n",
    "d_k = d_v = 16\n",
    "num_groups = 2\n",
    "batch_size = 2\n",
    "seq_len = 10\n",
    "\n",
    "Q = torch.rand(batch_size, seq_len, d_model)\n",
    "K = torch.rand(batch_size, seq_len, d_model)\n",
    "V = torch.rand(batch_size, seq_len, d_model)\n",
    "\n",
    "model = GQA(d_model, n_heads, d_k, d_v, num_groups)\n",
    "output = model(Q, K, V)"
   ]
  },
  {
   "cell_type": "code",
   "execution_count": null,
   "metadata": {},
   "outputs": [],
   "source": []
  }
 ],
 "metadata": {
  "kernelspec": {
   "display_name": "ai-test",
   "language": "python",
   "name": "python3"
  },
  "language_info": {
   "codemirror_mode": {
    "name": "ipython",
    "version": 3
   },
   "file_extension": ".py",
   "mimetype": "text/x-python",
   "name": "python",
   "nbconvert_exporter": "python",
   "pygments_lexer": "ipython3",
   "version": "3.11.9"
  }
 },
 "nbformat": 4,
 "nbformat_minor": 2
}
