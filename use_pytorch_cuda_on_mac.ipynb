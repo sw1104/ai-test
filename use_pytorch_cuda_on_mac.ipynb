{
 "cells": [
  {
   "cell_type": "markdown",
   "metadata": {},
   "source": [
    "**PyTorch는 MPS(Metal Performance Shaders)를 백엔드로 사용하여 Apple Silicon에서 GPU 가속을 지원**"
   ]
  },
  {
   "cell_type": "code",
   "execution_count": 2,
   "metadata": {},
   "outputs": [
    {
     "name": "stdout",
     "output_type": "stream",
     "text": [
      "CPU 실행 시간: 13.6801 초\n",
      "MPS 실행 시간: 0.3759 초\n"
     ]
    }
   ],
   "source": [
    "import torch\n",
    "import time\n",
    "\n",
    "def measure_time(device):\n",
    "    x = torch.rand((10000, 10000), dtype=torch.float32).to(device)\n",
    "    y = torch.rand((10000, 10000), dtype=torch.float32).to(device)\n",
    "\n",
    "    start_time = time.time()\n",
    "    \n",
    "    for _ in range(10):\n",
    "        z = torch.matmul(x, y)\n",
    "    \n",
    "    end_time = time.time()\n",
    "    \n",
    "    return end_time - start_time\n",
    "\n",
    "cpu_device = torch.device('cpu')\n",
    "cpu_time = measure_time(cpu_device)\n",
    "print(f\"CPU 실행 시간: {cpu_time:.4f} 초\")\n",
    "\n",
    "if torch.backends.mps.is_available():\n",
    "    mps_device = torch.device('mps')\n",
    "    mps_time = measure_time(mps_device)\n",
    "    print(f\"MPS 실행 시간: {mps_time:.4f} 초\")\n",
    "else:\n",
    "    print(\"MPS 장치 XXX\")"
   ]
  }
 ],
 "metadata": {
  "kernelspec": {
   "display_name": "ai-test",
   "language": "python",
   "name": "python3"
  },
  "language_info": {
   "codemirror_mode": {
    "name": "ipython",
    "version": 3
   },
   "file_extension": ".py",
   "mimetype": "text/x-python",
   "name": "python",
   "nbconvert_exporter": "python",
   "pygments_lexer": "ipython3",
   "version": "3.11.9"
  }
 },
 "nbformat": 4,
 "nbformat_minor": 2
}
