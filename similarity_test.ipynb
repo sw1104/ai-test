{
 "cells": [
  {
   "cell_type": "code",
   "execution_count": 29,
   "id": "initial_id",
   "metadata": {
    "ExecuteTime": {
     "end_time": "2024-07-09T23:44:19.512604Z",
     "start_time": "2024-07-09T23:44:19.500884Z"
    },
    "collapsed": true
   },
   "outputs": [
    {
     "data": {
      "text/plain": [
       "True"
      ]
     },
     "execution_count": 29,
     "metadata": {},
     "output_type": "execute_result"
    }
   ],
   "source": [
    "from dotenv import load_dotenv\n",
    "load_dotenv()"
   ]
  },
  {
   "cell_type": "code",
   "execution_count": 30,
   "id": "1cd06c7a2d8c3ce5",
   "metadata": {
    "ExecuteTime": {
     "end_time": "2024-07-09T23:44:19.872352Z",
     "start_time": "2024-07-09T23:44:19.514344Z"
    }
   },
   "outputs": [],
   "source": [
    "from openai import OpenAI\n",
    "openai_client = OpenAI()"
   ]
  },
  {
   "cell_type": "code",
   "execution_count": 31,
   "id": "97eb1a23336d8a9a",
   "metadata": {
    "ExecuteTime": {
     "end_time": "2024-07-09T23:45:39.725558Z",
     "start_time": "2024-07-09T23:45:39.720835Z"
    }
   },
   "outputs": [],
   "source": [
    "import numpy as np\n",
    "\n",
    "def cosine_similarity(vec1, vec2):\n",
    "    \"\"\"\n",
    "    Calculate the cosine similarity betwwen two vectors.\n",
    "    \n",
    "    Parameters:\n",
    "         vec1 (numpy array): First vector\n",
    "         vec2 (numpy array): Second vector\n",
    "         \n",
    "         Return:\n",
    "             float: Cosine similarity between vec1 and vec2\n",
    "    \"\"\"\n",
    "    dot_product = np.dot(vec1, vec2)\n",
    "    norm_vec1 = np.linalg.norm(vec1)\n",
    "    norm_vec2 = np.linalg.norm(vec2)\n",
    "    \n",
    "    if norm_vec1 == 0 or norm_vec2 == 0:\n",
    "        return 0.0\n",
    "    \n",
    "    return dot_product / (norm_vec1 * norm_vec2)"
   ]
  },
  {
   "cell_type": "code",
   "execution_count": 32,
   "id": "660c1fb131b4cb77",
   "metadata": {
    "ExecuteTime": {
     "end_time": "2024-07-09T23:45:41.247618Z",
     "start_time": "2024-07-09T23:45:40.671827Z"
    }
   },
   "outputs": [],
   "source": [
    "king_embedding_response = openai_client.embeddings.create(\n",
    "    input=\"king\",\n",
    "    model=\"text-embedding-3-large\"\n",
    ")\n",
    "king_vector = np.array(king_embedding_response.data[0].embedding)"
   ]
  },
  {
   "cell_type": "code",
   "execution_count": 33,
   "id": "f7131e1068974573",
   "metadata": {
    "ExecuteTime": {
     "end_time": "2024-07-09T23:45:41.736574Z",
     "start_time": "2024-07-09T23:45:41.249639Z"
    }
   },
   "outputs": [],
   "source": [
    "queen_embedding_response = openai_client.embeddings.create(\n",
    "    input=\"queen\",\n",
    "    model=\"text-embedding-3-large\"\n",
    ")\n",
    "queen_vector = np.array(queen_embedding_response.data[0].embedding)"
   ]
  },
  {
   "cell_type": "code",
   "execution_count": 34,
   "id": "b75d93b558d7af4f",
   "metadata": {
    "ExecuteTime": {
     "end_time": "2024-07-09T23:45:41.741087Z",
     "start_time": "2024-07-09T23:45:41.738230Z"
    }
   },
   "outputs": [],
   "source": [
    "king_queen_similarity = cosine_similarity(king_vector, queen_vector)"
   ]
  },
  {
   "cell_type": "code",
   "execution_count": 35,
   "id": "43617b2fc85b9ed1",
   "metadata": {
    "ExecuteTime": {
     "end_time": "2024-07-09T23:45:41.746452Z",
     "start_time": "2024-07-09T23:45:41.743256Z"
    }
   },
   "outputs": [
    {
     "data": {
      "text/plain": [
       "0.5524973770974239"
      ]
     },
     "execution_count": 35,
     "metadata": {},
     "output_type": "execute_result"
    }
   ],
   "source": [
    "king_queen_similarity"
   ]
  },
  {
   "cell_type": "code",
   "execution_count": 36,
   "id": "16ba9d760c3a400a",
   "metadata": {
    "ExecuteTime": {
     "end_time": "2024-07-09T23:45:42.193815Z",
     "start_time": "2024-07-09T23:45:41.747602Z"
    }
   },
   "outputs": [],
   "source": [
    "slave_embedding_response = openai_client.embeddings.create(\n",
    "    input=\"slave\",\n",
    "    model=\"text-embedding-3-large\"\n",
    ")\n",
    "slave_vector = np.array(slave_embedding_response.data[0].embedding)"
   ]
  },
  {
   "cell_type": "code",
   "execution_count": 37,
   "id": "1618972c5c74f0f5",
   "metadata": {
    "ExecuteTime": {
     "end_time": "2024-07-09T23:45:42.197251Z",
     "start_time": "2024-07-09T23:45:42.195005Z"
    }
   },
   "outputs": [],
   "source": [
    "king_slave_similarity = cosine_similarity(king_vector, slave_vector)"
   ]
  },
  {
   "cell_type": "code",
   "execution_count": 38,
   "id": "5e647d6752dc540b",
   "metadata": {
    "ExecuteTime": {
     "end_time": "2024-07-09T23:45:42.201454Z",
     "start_time": "2024-07-09T23:45:42.198637Z"
    }
   },
   "outputs": [
    {
     "data": {
      "text/plain": [
       "0.2932395660481018"
      ]
     },
     "execution_count": 38,
     "metadata": {},
     "output_type": "execute_result"
    }
   ],
   "source": [
    "king_slave_similarity"
   ]
  },
  {
   "cell_type": "code",
   "execution_count": 39,
   "id": "94d58ba040becc2a",
   "metadata": {
    "ExecuteTime": {
     "end_time": "2024-07-09T23:45:42.714089Z",
     "start_time": "2024-07-09T23:45:42.202530Z"
    }
   },
   "outputs": [],
   "source": [
    "korean_king_embedding_response = openai_client.embeddings.create(\n",
    "    input=\"korean_king\",\n",
    "    model=\"text-embedding-3-large\"\n",
    ")\n",
    "korean_king_vector = np.array(korean_king_embedding_response.data[0].embedding)"
   ]
  },
  {
   "cell_type": "code",
   "execution_count": 40,
   "id": "f1f0fcc025e7420b",
   "metadata": {
    "ExecuteTime": {
     "end_time": "2024-07-09T23:45:42.719997Z",
     "start_time": "2024-07-09T23:45:42.717775Z"
    }
   },
   "outputs": [],
   "source": [
    "openai_king_korean_king_similarity = cosine_similarity(king_vector, korean_king_vector)"
   ]
  },
  {
   "cell_type": "code",
   "execution_count": 41,
   "id": "a0ba0b10ae4c5a90",
   "metadata": {
    "ExecuteTime": {
     "end_time": "2024-07-09T23:45:42.724121Z",
     "start_time": "2024-07-09T23:45:42.721062Z"
    }
   },
   "outputs": [
    {
     "data": {
      "text/plain": [
       "0.4771969991874785"
      ]
     },
     "execution_count": 41,
     "metadata": {},
     "output_type": "execute_result"
    }
   ],
   "source": [
    "openai_king_korean_king_similarity"
   ]
  },
  {
   "cell_type": "code",
   "execution_count": 42,
   "id": "52e9391d286eca7f",
   "metadata": {
    "ExecuteTime": {
     "end_time": "2024-07-09T23:45:42.738591Z",
     "start_time": "2024-07-09T23:45:42.725237Z"
    }
   },
   "outputs": [],
   "source": [
    "import os\n",
    "\n",
    "UPSTAGE_API_KEY = os.getenv(\"UPSTAGE_API_KEY\")\n",
    "\n",
    "upstage_client = OpenAI(\n",
    "    api_key=UPSTAGE_API_KEY,\n",
    "    base_url=\"https://api.upstage.ai/v1/solar\"\n",
    ")"
   ]
  },
  {
   "cell_type": "code",
   "execution_count": 43,
   "id": "ad47841c8b1d3f96",
   "metadata": {
    "ExecuteTime": {
     "end_time": "2024-07-09T23:46:53.750621Z",
     "start_time": "2024-07-09T23:46:53.197794Z"
    }
   },
   "outputs": [],
   "source": [
    "upstage_king_response = upstage_client.embeddings.create(\n",
    "    input=\"king\",\n",
    "    model=\"solar-embedding-1-large-query\"\n",
    ")\n",
    "\n",
    "upstage_king_vector = np.array(upstage_king_response.data[0].embedding)"
   ]
  },
  {
   "cell_type": "code",
   "execution_count": 44,
   "id": "74584b21baba8880",
   "metadata": {
    "ExecuteTime": {
     "end_time": "2024-07-09T23:46:54.493824Z",
     "start_time": "2024-07-09T23:46:53.752283Z"
    }
   },
   "outputs": [],
   "source": [
    "upstage_korean_king_response = upstage_client.embeddings.create(\n",
    "    input=\"왕\",\n",
    "    model=\"solar-embedding-1-large-query\"\n",
    ")\n",
    "\n",
    "upstage_korean_king_vector = np.array(upstage_korean_king_response.data[0].embedding)"
   ]
  },
  {
   "cell_type": "code",
   "execution_count": 45,
   "id": "67f48217fbff4241",
   "metadata": {
    "ExecuteTime": {
     "end_time": "2024-07-10T01:14:42.882917Z",
     "start_time": "2024-07-10T01:14:42.879596Z"
    }
   },
   "outputs": [
    {
     "data": {
      "text/plain": [
       "array([-0.01207733, -0.0224762 , -0.01322937, ..., -0.00020826,\n",
       "        0.00362587,  0.01420593])"
      ]
     },
     "execution_count": 45,
     "metadata": {},
     "output_type": "execute_result"
    }
   ],
   "source": [
    "upstage_korean_king_vector"
   ]
  },
  {
   "cell_type": "code",
   "execution_count": 46,
   "id": "dea533ca7c8a3c4c",
   "metadata": {
    "ExecuteTime": {
     "end_time": "2024-07-09T23:46:54.498294Z",
     "start_time": "2024-07-09T23:46:54.495511Z"
    }
   },
   "outputs": [],
   "source": [
    "upstage_king_korean_king_similarity = cosine_similarity(upstage_king_vector, upstage_korean_king_vector)"
   ]
  },
  {
   "cell_type": "code",
   "execution_count": 47,
   "id": "54886c4a80f8e395",
   "metadata": {
    "ExecuteTime": {
     "end_time": "2024-07-09T23:46:59.632598Z",
     "start_time": "2024-07-09T23:46:59.629701Z"
    }
   },
   "outputs": [
    {
     "data": {
      "text/plain": [
       "0.852149171074866"
      ]
     },
     "execution_count": 47,
     "metadata": {},
     "output_type": "execute_result"
    }
   ],
   "source": [
    "upstage_king_korean_king_similarity"
   ]
  },
  {
   "cell_type": "code",
   "execution_count": 48,
   "id": "c73643d737579cc9",
   "metadata": {
    "ExecuteTime": {
     "end_time": "2024-07-09T23:47:37.802500Z",
     "start_time": "2024-07-09T23:47:37.182523Z"
    }
   },
   "outputs": [],
   "source": [
    "upstage_queen_response = upstage_client.embeddings.create(\n",
    "    input=\"queen\",\n",
    "    model=\"solar-embedding-1-large-query\"\n",
    ")\n",
    "\n",
    "upstage_queen_vector = np.array(upstage_queen_response.data[0].embedding)"
   ]
  },
  {
   "cell_type": "code",
   "execution_count": 49,
   "id": "d61fef31a3d166b7",
   "metadata": {
    "ExecuteTime": {
     "end_time": "2024-07-09T23:47:58.011597Z",
     "start_time": "2024-07-09T23:47:58.009062Z"
    }
   },
   "outputs": [],
   "source": [
    "upstage_king_queen_similarity = cosine_similarity(upstage_king_vector, upstage_queen_vector)"
   ]
  },
  {
   "cell_type": "code",
   "execution_count": 50,
   "id": "332cf7c2ee0b0d17",
   "metadata": {
    "ExecuteTime": {
     "end_time": "2024-07-09T23:48:03.243632Z",
     "start_time": "2024-07-09T23:48:03.240819Z"
    }
   },
   "outputs": [
    {
     "data": {
      "text/plain": [
       "0.6277983746920601"
      ]
     },
     "execution_count": 50,
     "metadata": {},
     "output_type": "execute_result"
    }
   ],
   "source": [
    "upstage_king_queen_similarity"
   ]
  },
  {
   "cell_type": "code",
   "execution_count": 51,
   "id": "3c8512f5f084fda4",
   "metadata": {
    "ExecuteTime": {
     "end_time": "2024-07-10T01:14:13.036268Z",
     "start_time": "2024-07-10T01:14:12.076119Z"
    }
   },
   "outputs": [
    {
     "data": {
      "text/plain": [
       "array([-0.00225449, -0.01824951, -0.00458145, ...,  0.01241302,\n",
       "       -0.01144409,  0.01820374])"
      ]
     },
     "execution_count": 51,
     "metadata": {},
     "output_type": "execute_result"
    }
   ],
   "source": [
    "upstage_slave_response = upstage_client.embeddings.create(\n",
    "    input=\"slave\",\n",
    "    model=\"solar-embedding-1-large-query\"\n",
    ")\n",
    "\n",
    "upstage_slave_vector = np.array(upstage_slave_response.data[0].embedding)\n",
    "upstage_slave_vector"
   ]
  },
  {
   "cell_type": "code",
   "execution_count": 52,
   "id": "f8460e9497244bcd",
   "metadata": {
    "ExecuteTime": {
     "end_time": "2024-07-09T23:48:36.163666Z",
     "start_time": "2024-07-09T23:48:36.161228Z"
    }
   },
   "outputs": [],
   "source": [
    "upstage_king_slave_similarity = cosine_similarity(upstage_king_vector, upstage_slave_vector)"
   ]
  },
  {
   "cell_type": "code",
   "execution_count": 53,
   "id": "3c365798f5a5d1ca",
   "metadata": {
    "ExecuteTime": {
     "end_time": "2024-07-09T23:48:40.631886Z",
     "start_time": "2024-07-09T23:48:40.628636Z"
    }
   },
   "outputs": [
    {
     "data": {
      "text/plain": [
       "0.4721607744346731"
      ]
     },
     "execution_count": 53,
     "metadata": {},
     "output_type": "execute_result"
    }
   ],
   "source": [
    "upstage_king_slave_similarity"
   ]
  },
  {
   "cell_type": "code",
   "execution_count": 54,
   "id": "cee6e6be45ed1e38",
   "metadata": {
    "ExecuteTime": {
     "end_time": "2024-07-10T00:15:00.997833Z",
     "start_time": "2024-07-10T00:15:00.308247Z"
    }
   },
   "outputs": [],
   "source": [
    "upstage_korean_queen_response = upstage_client.embeddings.create(\n",
    "    input=\"여왕\",\n",
    "    model=\"solar-embedding-1-large-query\"\n",
    ")\n",
    "\n",
    "upstage_korean_queen_vector = np.array(upstage_korean_queen_response.data[0].embedding)"
   ]
  },
  {
   "cell_type": "code",
   "execution_count": 55,
   "id": "8d59af64e224f6cb",
   "metadata": {
    "ExecuteTime": {
     "end_time": "2024-07-10T00:15:33.920133Z",
     "start_time": "2024-07-10T00:15:33.916448Z"
    }
   },
   "outputs": [],
   "source": [
    "upstage_korean_king_korean_queen_similarity = cosine_similarity(upstage_korean_king_vector, upstage_korean_queen_vector)"
   ]
  },
  {
   "cell_type": "code",
   "execution_count": 56,
   "id": "e7c509ac4b3bd50c",
   "metadata": {
    "ExecuteTime": {
     "end_time": "2024-07-10T00:15:37.546819Z",
     "start_time": "2024-07-10T00:15:37.543447Z"
    }
   },
   "outputs": [
    {
     "data": {
      "text/plain": [
       "0.6812030702716614"
      ]
     },
     "execution_count": 56,
     "metadata": {},
     "output_type": "execute_result"
    }
   ],
   "source": [
    "upstage_korean_king_korean_queen_similarity"
   ]
  }
 ],
 "metadata": {
  "kernelspec": {
   "display_name": "Python 3",
   "language": "python",
   "name": "python3"
  },
  "language_info": {
   "codemirror_mode": {
    "name": "ipython",
    "version": 2
   },
   "file_extension": ".py",
   "mimetype": "text/x-python",
   "name": "python",
   "nbconvert_exporter": "python",
   "pygments_lexer": "ipython2",
   "version": "2.7.6"
  }
 },
 "nbformat": 4,
 "nbformat_minor": 5
}
